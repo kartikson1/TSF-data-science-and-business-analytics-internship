{
 "cells": [
  {
   "cell_type": "markdown",
   "metadata": {},
   "source": [
    "<h1>Written by: Kartik Soni </h1>\n",
    "<br>\n",
    "<h2> Data Science and Business Analytics Internship</h2>\n",
    "<br>\n",
    "<h2>GRIP, The Sparks Foundation </h2>\n",
    "<br>\n",
    "<h2> Task 6: Create the Decision Tree classifier and visualize it graphically. </h2>\n",
    "<br>"
   ]
  },
  {
   "cell_type": "markdown",
   "metadata": {},
   "source": [
    "# Decision Tree Classification\n",
    "<br>\n",
    "\n",
    "## Importing the libraries"
   ]
  },
  {
   "cell_type": "code",
   "execution_count": 23,
   "metadata": {},
   "outputs": [],
   "source": [
    "import numpy as np\n",
    "import matplotlib.pyplot as plt\n",
    "import pandas as pd\n",
    "from sklearn import tree"
   ]
  },
  {
   "cell_type": "markdown",
   "metadata": {},
   "source": [
    "## Importing the dataset"
   ]
  },
  {
   "cell_type": "code",
   "execution_count": 46,
   "metadata": {},
   "outputs": [],
   "source": [
    "dataset = pd.read_csv('Iris.csv')\n",
    "X = dataset.iloc[:, 1:5].values\n",
    "y = dataset.iloc[:, -1].values"
   ]
  },
  {
   "cell_type": "code",
   "execution_count": 47,
   "metadata": {},
   "outputs": [
    {
     "data": {
      "text/plain": [
       "array([[5.1, 3.5, 1.4, 0.2],\n",
       "       [4.9, 3. , 1.4, 0.2],\n",
       "       [4.7, 3.2, 1.3, 0.2],\n",
       "       [4.6, 3.1, 1.5, 0.2],\n",
       "       [5. , 3.6, 1.4, 0.2],\n",
       "       [5.4, 3.9, 1.7, 0.4],\n",
       "       [4.6, 3.4, 1.4, 0.3],\n",
       "       [5. , 3.4, 1.5, 0.2],\n",
       "       [4.4, 2.9, 1.4, 0.2],\n",
       "       [4.9, 3.1, 1.5, 0.1],\n",
       "       [5.4, 3.7, 1.5, 0.2],\n",
       "       [4.8, 3.4, 1.6, 0.2],\n",
       "       [4.8, 3. , 1.4, 0.1],\n",
       "       [4.3, 3. , 1.1, 0.1],\n",
       "       [5.8, 4. , 1.2, 0.2],\n",
       "       [5.7, 4.4, 1.5, 0.4],\n",
       "       [5.4, 3.9, 1.3, 0.4],\n",
       "       [5.1, 3.5, 1.4, 0.3],\n",
       "       [5.7, 3.8, 1.7, 0.3],\n",
       "       [5.1, 3.8, 1.5, 0.3],\n",
       "       [5.4, 3.4, 1.7, 0.2],\n",
       "       [5.1, 3.7, 1.5, 0.4],\n",
       "       [4.6, 3.6, 1. , 0.2],\n",
       "       [5.1, 3.3, 1.7, 0.5],\n",
       "       [4.8, 3.4, 1.9, 0.2],\n",
       "       [5. , 3. , 1.6, 0.2],\n",
       "       [5. , 3.4, 1.6, 0.4],\n",
       "       [5.2, 3.5, 1.5, 0.2],\n",
       "       [5.2, 3.4, 1.4, 0.2],\n",
       "       [4.7, 3.2, 1.6, 0.2],\n",
       "       [4.8, 3.1, 1.6, 0.2],\n",
       "       [5.4, 3.4, 1.5, 0.4],\n",
       "       [5.2, 4.1, 1.5, 0.1],\n",
       "       [5.5, 4.2, 1.4, 0.2],\n",
       "       [4.9, 3.1, 1.5, 0.1],\n",
       "       [5. , 3.2, 1.2, 0.2],\n",
       "       [5.5, 3.5, 1.3, 0.2],\n",
       "       [4.9, 3.1, 1.5, 0.1],\n",
       "       [4.4, 3. , 1.3, 0.2],\n",
       "       [5.1, 3.4, 1.5, 0.2],\n",
       "       [5. , 3.5, 1.3, 0.3],\n",
       "       [4.5, 2.3, 1.3, 0.3],\n",
       "       [4.4, 3.2, 1.3, 0.2],\n",
       "       [5. , 3.5, 1.6, 0.6],\n",
       "       [5.1, 3.8, 1.9, 0.4],\n",
       "       [4.8, 3. , 1.4, 0.3],\n",
       "       [5.1, 3.8, 1.6, 0.2],\n",
       "       [4.6, 3.2, 1.4, 0.2],\n",
       "       [5.3, 3.7, 1.5, 0.2],\n",
       "       [5. , 3.3, 1.4, 0.2],\n",
       "       [7. , 3.2, 4.7, 1.4],\n",
       "       [6.4, 3.2, 4.5, 1.5],\n",
       "       [6.9, 3.1, 4.9, 1.5],\n",
       "       [5.5, 2.3, 4. , 1.3],\n",
       "       [6.5, 2.8, 4.6, 1.5],\n",
       "       [5.7, 2.8, 4.5, 1.3],\n",
       "       [6.3, 3.3, 4.7, 1.6],\n",
       "       [4.9, 2.4, 3.3, 1. ],\n",
       "       [6.6, 2.9, 4.6, 1.3],\n",
       "       [5.2, 2.7, 3.9, 1.4],\n",
       "       [5. , 2. , 3.5, 1. ],\n",
       "       [5.9, 3. , 4.2, 1.5],\n",
       "       [6. , 2.2, 4. , 1. ],\n",
       "       [6.1, 2.9, 4.7, 1.4],\n",
       "       [5.6, 2.9, 3.6, 1.3],\n",
       "       [6.7, 3.1, 4.4, 1.4],\n",
       "       [5.6, 3. , 4.5, 1.5],\n",
       "       [5.8, 2.7, 4.1, 1. ],\n",
       "       [6.2, 2.2, 4.5, 1.5],\n",
       "       [5.6, 2.5, 3.9, 1.1],\n",
       "       [5.9, 3.2, 4.8, 1.8],\n",
       "       [6.1, 2.8, 4. , 1.3],\n",
       "       [6.3, 2.5, 4.9, 1.5],\n",
       "       [6.1, 2.8, 4.7, 1.2],\n",
       "       [6.4, 2.9, 4.3, 1.3],\n",
       "       [6.6, 3. , 4.4, 1.4],\n",
       "       [6.8, 2.8, 4.8, 1.4],\n",
       "       [6.7, 3. , 5. , 1.7],\n",
       "       [6. , 2.9, 4.5, 1.5],\n",
       "       [5.7, 2.6, 3.5, 1. ],\n",
       "       [5.5, 2.4, 3.8, 1.1],\n",
       "       [5.5, 2.4, 3.7, 1. ],\n",
       "       [5.8, 2.7, 3.9, 1.2],\n",
       "       [6. , 2.7, 5.1, 1.6],\n",
       "       [5.4, 3. , 4.5, 1.5],\n",
       "       [6. , 3.4, 4.5, 1.6],\n",
       "       [6.7, 3.1, 4.7, 1.5],\n",
       "       [6.3, 2.3, 4.4, 1.3],\n",
       "       [5.6, 3. , 4.1, 1.3],\n",
       "       [5.5, 2.5, 4. , 1.3],\n",
       "       [5.5, 2.6, 4.4, 1.2],\n",
       "       [6.1, 3. , 4.6, 1.4],\n",
       "       [5.8, 2.6, 4. , 1.2],\n",
       "       [5. , 2.3, 3.3, 1. ],\n",
       "       [5.6, 2.7, 4.2, 1.3],\n",
       "       [5.7, 3. , 4.2, 1.2],\n",
       "       [5.7, 2.9, 4.2, 1.3],\n",
       "       [6.2, 2.9, 4.3, 1.3],\n",
       "       [5.1, 2.5, 3. , 1.1],\n",
       "       [5.7, 2.8, 4.1, 1.3],\n",
       "       [6.3, 3.3, 6. , 2.5],\n",
       "       [5.8, 2.7, 5.1, 1.9],\n",
       "       [7.1, 3. , 5.9, 2.1],\n",
       "       [6.3, 2.9, 5.6, 1.8],\n",
       "       [6.5, 3. , 5.8, 2.2],\n",
       "       [7.6, 3. , 6.6, 2.1],\n",
       "       [4.9, 2.5, 4.5, 1.7],\n",
       "       [7.3, 2.9, 6.3, 1.8],\n",
       "       [6.7, 2.5, 5.8, 1.8],\n",
       "       [7.2, 3.6, 6.1, 2.5],\n",
       "       [6.5, 3.2, 5.1, 2. ],\n",
       "       [6.4, 2.7, 5.3, 1.9],\n",
       "       [6.8, 3. , 5.5, 2.1],\n",
       "       [5.7, 2.5, 5. , 2. ],\n",
       "       [5.8, 2.8, 5.1, 2.4],\n",
       "       [6.4, 3.2, 5.3, 2.3],\n",
       "       [6.5, 3. , 5.5, 1.8],\n",
       "       [7.7, 3.8, 6.7, 2.2],\n",
       "       [7.7, 2.6, 6.9, 2.3],\n",
       "       [6. , 2.2, 5. , 1.5],\n",
       "       [6.9, 3.2, 5.7, 2.3],\n",
       "       [5.6, 2.8, 4.9, 2. ],\n",
       "       [7.7, 2.8, 6.7, 2. ],\n",
       "       [6.3, 2.7, 4.9, 1.8],\n",
       "       [6.7, 3.3, 5.7, 2.1],\n",
       "       [7.2, 3.2, 6. , 1.8],\n",
       "       [6.2, 2.8, 4.8, 1.8],\n",
       "       [6.1, 3. , 4.9, 1.8],\n",
       "       [6.4, 2.8, 5.6, 2.1],\n",
       "       [7.2, 3. , 5.8, 1.6],\n",
       "       [7.4, 2.8, 6.1, 1.9],\n",
       "       [7.9, 3.8, 6.4, 2. ],\n",
       "       [6.4, 2.8, 5.6, 2.2],\n",
       "       [6.3, 2.8, 5.1, 1.5],\n",
       "       [6.1, 2.6, 5.6, 1.4],\n",
       "       [7.7, 3. , 6.1, 2.3],\n",
       "       [6.3, 3.4, 5.6, 2.4],\n",
       "       [6.4, 3.1, 5.5, 1.8],\n",
       "       [6. , 3. , 4.8, 1.8],\n",
       "       [6.9, 3.1, 5.4, 2.1],\n",
       "       [6.7, 3.1, 5.6, 2.4],\n",
       "       [6.9, 3.1, 5.1, 2.3],\n",
       "       [5.8, 2.7, 5.1, 1.9],\n",
       "       [6.8, 3.2, 5.9, 2.3],\n",
       "       [6.7, 3.3, 5.7, 2.5],\n",
       "       [6.7, 3. , 5.2, 2.3],\n",
       "       [6.3, 2.5, 5. , 1.9],\n",
       "       [6.5, 3. , 5.2, 2. ],\n",
       "       [6.2, 3.4, 5.4, 2.3],\n",
       "       [5.9, 3. , 5.1, 1.8]])"
      ]
     },
     "execution_count": 47,
     "metadata": {},
     "output_type": "execute_result"
    }
   ],
   "source": [
    "X"
   ]
  },
  {
   "cell_type": "markdown",
   "metadata": {},
   "source": [
    "## Splitting the dataset into the Training set and Test set"
   ]
  },
  {
   "cell_type": "code",
   "execution_count": 26,
   "metadata": {},
   "outputs": [],
   "source": [
    "from sklearn.model_selection import train_test_split\n",
    "X_train, X_test, y_train, y_test = train_test_split(X, y, test_size = 0.25, random_state = 0)"
   ]
  },
  {
   "cell_type": "code",
   "execution_count": 27,
   "metadata": {},
   "outputs": [
    {
     "name": "stdout",
     "output_type": "stream",
     "text": [
      "[[5.9 3.  4.2 1.5]\n",
      " [5.8 2.6 4.  1.2]\n",
      " [6.8 3.  5.5 2.1]\n",
      " [4.7 3.2 1.3 0.2]\n",
      " [6.9 3.1 5.1 2.3]\n",
      " [5.  3.5 1.6 0.6]\n",
      " [5.4 3.7 1.5 0.2]\n",
      " [5.  2.  3.5 1. ]\n",
      " [6.5 3.  5.5 1.8]\n",
      " [6.7 3.3 5.7 2.5]\n",
      " [6.  2.2 5.  1.5]\n",
      " [6.7 2.5 5.8 1.8]\n",
      " [5.6 2.5 3.9 1.1]\n",
      " [7.7 3.  6.1 2.3]\n",
      " [6.3 3.3 4.7 1.6]\n",
      " [5.5 2.4 3.8 1.1]\n",
      " [6.3 2.7 4.9 1.8]\n",
      " [6.3 2.8 5.1 1.5]\n",
      " [4.9 2.5 4.5 1.7]\n",
      " [6.3 2.5 5.  1.9]\n",
      " [7.  3.2 4.7 1.4]\n",
      " [6.5 3.  5.2 2. ]\n",
      " [6.  3.4 4.5 1.6]\n",
      " [4.8 3.1 1.6 0.2]\n",
      " [5.8 2.7 5.1 1.9]\n",
      " [5.6 2.7 4.2 1.3]\n",
      " [5.6 2.9 3.6 1.3]\n",
      " [5.5 2.5 4.  1.3]\n",
      " [6.1 3.  4.6 1.4]\n",
      " [7.2 3.2 6.  1.8]\n",
      " [5.3 3.7 1.5 0.2]\n",
      " [4.3 3.  1.1 0.1]\n",
      " [6.4 2.7 5.3 1.9]\n",
      " [5.7 3.  4.2 1.2]\n",
      " [5.4 3.4 1.7 0.2]\n",
      " [5.7 4.4 1.5 0.4]\n",
      " [6.9 3.1 4.9 1.5]\n",
      " [4.6 3.1 1.5 0.2]\n",
      " [5.9 3.  5.1 1.8]\n",
      " [5.1 2.5 3.  1.1]\n",
      " [4.6 3.4 1.4 0.3]\n",
      " [6.2 2.2 4.5 1.5]\n",
      " [7.2 3.6 6.1 2.5]\n",
      " [5.7 2.9 4.2 1.3]\n",
      " [4.8 3.  1.4 0.1]\n",
      " [7.1 3.  5.9 2.1]\n",
      " [6.9 3.2 5.7 2.3]\n",
      " [6.5 3.  5.8 2.2]\n",
      " [6.4 2.8 5.6 2.1]\n",
      " [5.1 3.8 1.6 0.2]\n",
      " [4.8 3.4 1.6 0.2]\n",
      " [6.5 3.2 5.1 2. ]\n",
      " [6.7 3.3 5.7 2.1]\n",
      " [4.5 2.3 1.3 0.3]\n",
      " [6.2 3.4 5.4 2.3]\n",
      " [4.9 3.  1.4 0.2]\n",
      " [5.7 2.5 5.  2. ]\n",
      " [6.9 3.1 5.4 2.1]\n",
      " [4.4 3.2 1.3 0.2]\n",
      " [5.  3.6 1.4 0.2]\n",
      " [7.2 3.  5.8 1.6]\n",
      " [5.1 3.5 1.4 0.3]\n",
      " [4.4 3.  1.3 0.2]\n",
      " [5.4 3.9 1.7 0.4]\n",
      " [5.5 2.3 4.  1.3]\n",
      " [6.8 3.2 5.9 2.3]\n",
      " [7.6 3.  6.6 2.1]\n",
      " [5.1 3.5 1.4 0.2]\n",
      " [4.9 3.1 1.5 0.1]\n",
      " [5.2 3.4 1.4 0.2]\n",
      " [5.7 2.8 4.5 1.3]\n",
      " [6.6 3.  4.4 1.4]\n",
      " [5.  3.2 1.2 0.2]\n",
      " [5.1 3.3 1.7 0.5]\n",
      " [6.4 2.9 4.3 1.3]\n",
      " [5.4 3.4 1.5 0.4]\n",
      " [7.7 2.6 6.9 2.3]\n",
      " [4.9 2.4 3.3 1. ]\n",
      " [7.9 3.8 6.4 2. ]\n",
      " [6.7 3.1 4.4 1.4]\n",
      " [5.2 4.1 1.5 0.1]\n",
      " [6.  3.  4.8 1.8]\n",
      " [5.8 4.  1.2 0.2]\n",
      " [7.7 2.8 6.7 2. ]\n",
      " [5.1 3.8 1.5 0.3]\n",
      " [4.7 3.2 1.6 0.2]\n",
      " [7.4 2.8 6.1 1.9]\n",
      " [5.  3.3 1.4 0.2]\n",
      " [6.3 3.4 5.6 2.4]\n",
      " [5.7 2.8 4.1 1.3]\n",
      " [5.8 2.7 3.9 1.2]\n",
      " [5.7 2.6 3.5 1. ]\n",
      " [6.4 3.2 5.3 2.3]\n",
      " [6.7 3.  5.2 2.3]\n",
      " [6.3 2.5 4.9 1.5]\n",
      " [6.7 3.  5.  1.7]\n",
      " [5.  3.  1.6 0.2]\n",
      " [5.5 2.4 3.7 1. ]\n",
      " [6.7 3.1 5.6 2.4]\n",
      " [5.8 2.7 5.1 1.9]\n",
      " [5.1 3.4 1.5 0.2]\n",
      " [6.6 2.9 4.6 1.3]\n",
      " [5.6 3.  4.1 1.3]\n",
      " [5.9 3.2 4.8 1.8]\n",
      " [6.3 2.3 4.4 1.3]\n",
      " [5.5 3.5 1.3 0.2]\n",
      " [5.1 3.7 1.5 0.4]\n",
      " [4.9 3.1 1.5 0.1]\n",
      " [6.3 2.9 5.6 1.8]\n",
      " [5.8 2.7 4.1 1. ]\n",
      " [7.7 3.8 6.7 2.2]\n",
      " [4.6 3.2 1.4 0.2]]\n"
     ]
    }
   ],
   "source": [
    "print(X_train)"
   ]
  },
  {
   "cell_type": "code",
   "execution_count": 28,
   "metadata": {},
   "outputs": [
    {
     "name": "stdout",
     "output_type": "stream",
     "text": [
      "['Iris-versicolor' 'Iris-versicolor' 'Iris-virginica' 'Iris-setosa'\n",
      " 'Iris-virginica' 'Iris-setosa' 'Iris-setosa' 'Iris-versicolor'\n",
      " 'Iris-virginica' 'Iris-virginica' 'Iris-virginica' 'Iris-virginica'\n",
      " 'Iris-versicolor' 'Iris-virginica' 'Iris-versicolor' 'Iris-versicolor'\n",
      " 'Iris-virginica' 'Iris-virginica' 'Iris-virginica' 'Iris-virginica'\n",
      " 'Iris-versicolor' 'Iris-virginica' 'Iris-versicolor' 'Iris-setosa'\n",
      " 'Iris-virginica' 'Iris-versicolor' 'Iris-versicolor' 'Iris-versicolor'\n",
      " 'Iris-versicolor' 'Iris-virginica' 'Iris-setosa' 'Iris-setosa'\n",
      " 'Iris-virginica' 'Iris-versicolor' 'Iris-setosa' 'Iris-setosa'\n",
      " 'Iris-versicolor' 'Iris-setosa' 'Iris-virginica' 'Iris-versicolor'\n",
      " 'Iris-setosa' 'Iris-versicolor' 'Iris-virginica' 'Iris-versicolor'\n",
      " 'Iris-setosa' 'Iris-virginica' 'Iris-virginica' 'Iris-virginica'\n",
      " 'Iris-virginica' 'Iris-setosa' 'Iris-setosa' 'Iris-virginica'\n",
      " 'Iris-virginica' 'Iris-setosa' 'Iris-virginica' 'Iris-setosa'\n",
      " 'Iris-virginica' 'Iris-virginica' 'Iris-setosa' 'Iris-setosa'\n",
      " 'Iris-virginica' 'Iris-setosa' 'Iris-setosa' 'Iris-setosa'\n",
      " 'Iris-versicolor' 'Iris-virginica' 'Iris-virginica' 'Iris-setosa'\n",
      " 'Iris-setosa' 'Iris-setosa' 'Iris-versicolor' 'Iris-versicolor'\n",
      " 'Iris-setosa' 'Iris-setosa' 'Iris-versicolor' 'Iris-setosa'\n",
      " 'Iris-virginica' 'Iris-versicolor' 'Iris-virginica' 'Iris-versicolor'\n",
      " 'Iris-setosa' 'Iris-virginica' 'Iris-setosa' 'Iris-virginica'\n",
      " 'Iris-setosa' 'Iris-setosa' 'Iris-virginica' 'Iris-setosa'\n",
      " 'Iris-virginica' 'Iris-versicolor' 'Iris-versicolor' 'Iris-versicolor'\n",
      " 'Iris-virginica' 'Iris-virginica' 'Iris-versicolor' 'Iris-versicolor'\n",
      " 'Iris-setosa' 'Iris-versicolor' 'Iris-virginica' 'Iris-virginica'\n",
      " 'Iris-setosa' 'Iris-versicolor' 'Iris-versicolor' 'Iris-versicolor'\n",
      " 'Iris-versicolor' 'Iris-setosa' 'Iris-setosa' 'Iris-setosa'\n",
      " 'Iris-virginica' 'Iris-versicolor' 'Iris-virginica' 'Iris-setosa']\n"
     ]
    }
   ],
   "source": [
    "print(y_train)"
   ]
  },
  {
   "cell_type": "code",
   "execution_count": 29,
   "metadata": {},
   "outputs": [
    {
     "name": "stdout",
     "output_type": "stream",
     "text": [
      "[[5.8 2.8 5.1 2.4]\n",
      " [6.  2.2 4.  1. ]\n",
      " [5.5 4.2 1.4 0.2]\n",
      " [7.3 2.9 6.3 1.8]\n",
      " [5.  3.4 1.5 0.2]\n",
      " [6.3 3.3 6.  2.5]\n",
      " [5.  3.5 1.3 0.3]\n",
      " [6.7 3.1 4.7 1.5]\n",
      " [6.8 2.8 4.8 1.4]\n",
      " [6.1 2.8 4.  1.3]\n",
      " [6.1 2.6 5.6 1.4]\n",
      " [6.4 3.2 4.5 1.5]\n",
      " [6.1 2.8 4.7 1.2]\n",
      " [6.5 2.8 4.6 1.5]\n",
      " [6.1 2.9 4.7 1.4]\n",
      " [4.9 3.1 1.5 0.1]\n",
      " [6.  2.9 4.5 1.5]\n",
      " [5.5 2.6 4.4 1.2]\n",
      " [4.8 3.  1.4 0.3]\n",
      " [5.4 3.9 1.3 0.4]\n",
      " [5.6 2.8 4.9 2. ]\n",
      " [5.6 3.  4.5 1.5]\n",
      " [4.8 3.4 1.9 0.2]\n",
      " [4.4 2.9 1.4 0.2]\n",
      " [6.2 2.8 4.8 1.8]\n",
      " [4.6 3.6 1.  0.2]\n",
      " [5.1 3.8 1.9 0.4]\n",
      " [6.2 2.9 4.3 1.3]\n",
      " [5.  2.3 3.3 1. ]\n",
      " [5.  3.4 1.6 0.4]\n",
      " [6.4 3.1 5.5 1.8]\n",
      " [5.4 3.  4.5 1.5]\n",
      " [5.2 3.5 1.5 0.2]\n",
      " [6.1 3.  4.9 1.8]\n",
      " [6.4 2.8 5.6 2.2]\n",
      " [5.2 2.7 3.9 1.4]\n",
      " [5.7 3.8 1.7 0.3]\n",
      " [6.  2.7 5.1 1.6]]\n"
     ]
    }
   ],
   "source": [
    "print(X_test)"
   ]
  },
  {
   "cell_type": "code",
   "execution_count": 30,
   "metadata": {},
   "outputs": [
    {
     "name": "stdout",
     "output_type": "stream",
     "text": [
      "['Iris-virginica' 'Iris-versicolor' 'Iris-setosa' 'Iris-virginica'\n",
      " 'Iris-setosa' 'Iris-virginica' 'Iris-setosa' 'Iris-versicolor'\n",
      " 'Iris-versicolor' 'Iris-versicolor' 'Iris-virginica' 'Iris-versicolor'\n",
      " 'Iris-versicolor' 'Iris-versicolor' 'Iris-versicolor' 'Iris-setosa'\n",
      " 'Iris-versicolor' 'Iris-versicolor' 'Iris-setosa' 'Iris-setosa'\n",
      " 'Iris-virginica' 'Iris-versicolor' 'Iris-setosa' 'Iris-setosa'\n",
      " 'Iris-virginica' 'Iris-setosa' 'Iris-setosa' 'Iris-versicolor'\n",
      " 'Iris-versicolor' 'Iris-setosa' 'Iris-virginica' 'Iris-versicolor'\n",
      " 'Iris-setosa' 'Iris-virginica' 'Iris-virginica' 'Iris-versicolor'\n",
      " 'Iris-setosa' 'Iris-versicolor']\n"
     ]
    }
   ],
   "source": [
    "print(y_test)"
   ]
  },
  {
   "cell_type": "markdown",
   "metadata": {},
   "source": [
    "## Feature Scaling"
   ]
  },
  {
   "cell_type": "code",
   "execution_count": 31,
   "metadata": {},
   "outputs": [],
   "source": [
    "from sklearn.preprocessing import StandardScaler\n",
    "sc = StandardScaler()\n",
    "X_train = sc.fit_transform(X_train)\n",
    "X_test = sc.transform(X_test)"
   ]
  },
  {
   "cell_type": "code",
   "execution_count": 32,
   "metadata": {},
   "outputs": [
    {
     "name": "stdout",
     "output_type": "stream",
     "text": [
      "[[ 1.54399532e-02 -1.19254753e-01  2.25126850e-01  3.56381749e-01]\n",
      " [-9.98450310e-02 -1.04039491e+00  1.13559562e-01 -2.86480506e-02]\n",
      " [ 1.05300481e+00 -1.19254753e-01  9.50314227e-01  1.12644135e+00]\n",
      " [-1.36797986e+00  3.41315328e-01 -1.39259884e+00 -1.31208072e+00]\n",
      " [ 1.16828980e+00  1.11030287e-01  7.27179649e-01  1.38312788e+00]\n",
      " [-1.02212490e+00  1.03217045e+00 -1.22524790e+00 -7.98707650e-01]\n",
      " [-5.60984968e-01  1.49274053e+00 -1.28103155e+00 -1.31208072e+00]\n",
      " [-1.02212490e+00 -2.42210516e+00 -1.65358660e-01 -2.85334584e-01]\n",
      " [ 7.07149859e-01 -1.19254753e-01  9.50314227e-01  7.41411549e-01]\n",
      " [ 9.37719827e-01  5.71600368e-01  1.06188152e+00  1.63981441e+00]\n",
      " [ 1.30724937e-01 -1.96153508e+00  6.71396005e-01  3.56381749e-01]\n",
      " [ 9.37719827e-01 -1.27067995e+00  1.11766516e+00  7.41411549e-01]\n",
      " [-3.30414999e-01 -1.27067995e+00  5.77759173e-02 -1.56991317e-01]\n",
      " [ 2.09056967e+00 -1.19254753e-01  1.28501609e+00  1.38312788e+00]\n",
      " [ 4.76579890e-01  5.71600368e-01  5.04045072e-01  4.84725016e-01]\n",
      " [-4.45699984e-01 -1.50096499e+00  1.99227301e-03 -1.56991317e-01]\n",
      " [ 4.76579890e-01 -8.10109874e-01  6.15612361e-01  7.41411549e-01]\n",
      " [ 4.76579890e-01 -5.79824834e-01  7.27179649e-01  3.56381749e-01]\n",
      " [-1.13740989e+00 -1.27067995e+00  3.92477783e-01  6.13068282e-01]\n",
      " [ 4.76579890e-01 -1.27067995e+00  6.71396005e-01  8.69754815e-01]\n",
      " [ 1.28357478e+00  3.41315328e-01  5.04045072e-01  2.28038483e-01]\n",
      " [ 7.07149859e-01 -1.19254753e-01  7.82963294e-01  9.98098082e-01]\n",
      " [ 1.30724937e-01  8.01885408e-01  3.92477783e-01  4.84725016e-01]\n",
      " [-1.25269487e+00  1.11030287e-01 -1.22524790e+00 -1.31208072e+00]\n",
      " [-9.98450310e-02 -8.10109874e-01  7.27179649e-01  8.69754815e-01]\n",
      " [-3.30414999e-01 -8.10109874e-01  2.25126850e-01  9.96952160e-02]\n",
      " [-3.30414999e-01 -3.49539793e-01 -1.09575016e-01  9.96952160e-02]\n",
      " [-4.45699984e-01 -1.27067995e+00  1.13559562e-01  9.96952160e-02]\n",
      " [ 2.46009922e-01 -1.19254753e-01  4.48261428e-01  2.28038483e-01]\n",
      " [ 1.51414475e+00  3.41315328e-01  1.22923245e+00  7.41411549e-01]\n",
      " [-6.76269952e-01  1.49274053e+00 -1.28103155e+00 -1.31208072e+00]\n",
      " [-1.82911979e+00 -1.19254753e-01 -1.50416612e+00 -1.44042398e+00]\n",
      " [ 5.91864874e-01 -8.10109874e-01  8.38746938e-01  8.69754815e-01]\n",
      " [-2.15130015e-01 -1.19254753e-01  2.25126850e-01 -2.86480506e-02]\n",
      " [-5.60984968e-01  8.01885408e-01 -1.16946426e+00 -1.31208072e+00]\n",
      " [-2.15130015e-01  3.10473581e+00 -1.28103155e+00 -1.05539418e+00]\n",
      " [ 1.16828980e+00  1.11030287e-01  6.15612361e-01  3.56381749e-01]\n",
      " [-1.48326484e+00  1.11030287e-01 -1.28103155e+00 -1.31208072e+00]\n",
      " [ 1.54399532e-02 -1.19254753e-01  7.27179649e-01  7.41411549e-01]\n",
      " [-9.06839920e-01 -1.27067995e+00 -4.44276882e-01 -1.56991317e-01]\n",
      " [-1.48326484e+00  8.01885408e-01 -1.33681519e+00 -1.18373745e+00]\n",
      " [ 3.61294906e-01 -1.96153508e+00  3.92477783e-01  3.56381749e-01]\n",
      " [ 1.51414475e+00  1.26245549e+00  1.28501609e+00  1.63981441e+00]\n",
      " [-2.15130015e-01 -3.49539793e-01  2.25126850e-01  9.96952160e-02]\n",
      " [-1.25269487e+00 -1.19254753e-01 -1.33681519e+00 -1.44042398e+00]\n",
      " [ 1.39885976e+00 -1.19254753e-01  1.17344880e+00  1.12644135e+00]\n",
      " [ 1.16828980e+00  3.41315328e-01  1.06188152e+00  1.38312788e+00]\n",
      " [ 7.07149859e-01 -1.19254753e-01  1.11766516e+00  1.25478461e+00]\n",
      " [ 5.91864874e-01 -5.79824834e-01  1.00609787e+00  1.12644135e+00]\n",
      " [-9.06839920e-01  1.72302557e+00 -1.22524790e+00 -1.31208072e+00]\n",
      " [-1.25269487e+00  8.01885408e-01 -1.22524790e+00 -1.31208072e+00]\n",
      " [ 7.07149859e-01  3.41315328e-01  7.27179649e-01  9.98098082e-01]\n",
      " [ 9.37719827e-01  5.71600368e-01  1.06188152e+00  1.12644135e+00]\n",
      " [-1.59854983e+00 -1.73125004e+00 -1.39259884e+00 -1.18373745e+00]\n",
      " [ 3.61294906e-01  8.01885408e-01  8.94530582e-01  1.38312788e+00]\n",
      " [-1.13740989e+00 -1.19254753e-01 -1.33681519e+00 -1.31208072e+00]\n",
      " [-2.15130015e-01 -1.27067995e+00  6.71396005e-01  9.98098082e-01]\n",
      " [ 1.16828980e+00  1.11030287e-01  8.94530582e-01  1.12644135e+00]\n",
      " [-1.71383481e+00  3.41315328e-01 -1.39259884e+00 -1.31208072e+00]\n",
      " [-1.02212490e+00  1.26245549e+00 -1.33681519e+00 -1.31208072e+00]\n",
      " [ 1.51414475e+00 -1.19254753e-01  1.11766516e+00  4.84725016e-01]\n",
      " [-9.06839920e-01  1.03217045e+00 -1.33681519e+00 -1.18373745e+00]\n",
      " [-1.71383481e+00 -1.19254753e-01 -1.39259884e+00 -1.31208072e+00]\n",
      " [-5.60984968e-01  1.95331061e+00 -1.16946426e+00 -1.05539418e+00]\n",
      " [-4.45699984e-01 -1.73125004e+00  1.13559562e-01  9.96952160e-02]\n",
      " [ 1.05300481e+00  3.41315328e-01  1.17344880e+00  1.38312788e+00]\n",
      " [ 1.97528468e+00 -1.19254753e-01  1.56393431e+00  1.12644135e+00]\n",
      " [-9.06839920e-01  1.03217045e+00 -1.33681519e+00 -1.31208072e+00]\n",
      " [-1.13740989e+00  1.11030287e-01 -1.28103155e+00 -1.44042398e+00]\n",
      " [-7.91554936e-01  8.01885408e-01 -1.33681519e+00 -1.31208072e+00]\n",
      " [-2.15130015e-01 -5.79824834e-01  3.92477783e-01  9.96952160e-02]\n",
      " [ 8.22434843e-01 -1.19254753e-01  3.36694139e-01  2.28038483e-01]\n",
      " [-1.02212490e+00  3.41315328e-01 -1.44838248e+00 -1.31208072e+00]\n",
      " [-9.06839920e-01  5.71600368e-01 -1.16946426e+00 -9.27050916e-01]\n",
      " [ 5.91864874e-01 -3.49539793e-01  2.80910495e-01  9.96952160e-02]\n",
      " [-5.60984968e-01  8.01885408e-01 -1.28103155e+00 -1.05539418e+00]\n",
      " [ 2.09056967e+00 -1.04039491e+00  1.73128525e+00  1.38312788e+00]\n",
      " [-1.13740989e+00 -1.50096499e+00 -2.76925949e-01 -2.85334584e-01]\n",
      " [ 2.32113964e+00  1.72302557e+00  1.45236703e+00  9.98098082e-01]\n",
      " [ 9.37719827e-01  1.11030287e-01  3.36694139e-01  2.28038483e-01]\n",
      " [-7.91554936e-01  2.41388069e+00 -1.28103155e+00 -1.44042398e+00]\n",
      " [ 1.30724937e-01 -1.19254753e-01  5.59828716e-01  7.41411549e-01]\n",
      " [-9.98450310e-02  2.18359565e+00 -1.44838248e+00 -1.31208072e+00]\n",
      " [ 2.09056967e+00 -5.79824834e-01  1.61971796e+00  9.98098082e-01]\n",
      " [-9.06839920e-01  1.72302557e+00 -1.28103155e+00 -1.18373745e+00]\n",
      " [-1.36797986e+00  3.41315328e-01 -1.22524790e+00 -1.31208072e+00]\n",
      " [ 1.74471472e+00 -5.79824834e-01  1.28501609e+00  8.69754815e-01]\n",
      " [-1.02212490e+00  5.71600368e-01 -1.33681519e+00 -1.31208072e+00]\n",
      " [ 4.76579890e-01  8.01885408e-01  1.00609787e+00  1.51147115e+00]\n",
      " [-2.15130015e-01 -5.79824834e-01  1.69343206e-01  9.96952160e-02]\n",
      " [-9.98450310e-02 -8.10109874e-01  5.77759173e-02 -2.86480506e-02]\n",
      " [-2.15130015e-01 -1.04039491e+00 -1.65358660e-01 -2.85334584e-01]\n",
      " [ 5.91864874e-01  3.41315328e-01  8.38746938e-01  1.38312788e+00]\n",
      " [ 9.37719827e-01 -1.19254753e-01  7.82963294e-01  1.38312788e+00]\n",
      " [ 4.76579890e-01 -1.27067995e+00  6.15612361e-01  3.56381749e-01]\n",
      " [ 9.37719827e-01 -1.19254753e-01  6.71396005e-01  6.13068282e-01]\n",
      " [-1.02212490e+00 -1.19254753e-01 -1.22524790e+00 -1.31208072e+00]\n",
      " [-4.45699984e-01 -1.50096499e+00 -5.37913713e-02 -2.85334584e-01]\n",
      " [ 9.37719827e-01  1.11030287e-01  1.00609787e+00  1.51147115e+00]\n",
      " [-9.98450310e-02 -8.10109874e-01  7.27179649e-01  8.69754815e-01]\n",
      " [-9.06839920e-01  8.01885408e-01 -1.28103155e+00 -1.31208072e+00]\n",
      " [ 8.22434843e-01 -3.49539793e-01  4.48261428e-01  9.96952160e-02]\n",
      " [-3.30414999e-01 -1.19254753e-01  1.69343206e-01  9.96952160e-02]\n",
      " [ 1.54399532e-02  3.41315328e-01  5.59828716e-01  7.41411549e-01]\n",
      " [ 4.76579890e-01 -1.73125004e+00  3.36694139e-01  9.96952160e-02]\n",
      " [-4.45699984e-01  1.03217045e+00 -1.39259884e+00 -1.31208072e+00]\n",
      " [-9.06839920e-01  1.49274053e+00 -1.28103155e+00 -1.05539418e+00]\n",
      " [-1.13740989e+00  1.11030287e-01 -1.28103155e+00 -1.44042398e+00]\n",
      " [ 4.76579890e-01 -3.49539793e-01  1.00609787e+00  7.41411549e-01]\n",
      " [-9.98450310e-02 -8.10109874e-01  1.69343206e-01 -2.85334584e-01]\n",
      " [ 2.09056967e+00  1.72302557e+00  1.61971796e+00  1.25478461e+00]\n",
      " [-1.48326484e+00  3.41315328e-01 -1.33681519e+00 -1.31208072e+00]]\n"
     ]
    }
   ],
   "source": [
    "print(X_train)"
   ]
  },
  {
   "cell_type": "code",
   "execution_count": 33,
   "metadata": {},
   "outputs": [
    {
     "name": "stdout",
     "output_type": "stream",
     "text": [
      "[[-0.09984503 -0.57982483  0.72717965  1.51147115]\n",
      " [ 0.13072494 -1.96153508  0.11355956 -0.28533458]\n",
      " [-0.44569998  2.64416573 -1.33681519 -1.31208072]\n",
      " [ 1.62942973 -0.34953979  1.39658338  0.74141155]\n",
      " [-1.0221249   0.80188541 -1.28103155 -1.31208072]\n",
      " [ 0.47657989  0.57160037  1.22923245  1.63981441]\n",
      " [-1.0221249   1.03217045 -1.39259884 -1.18373745]\n",
      " [ 0.93771983  0.11103029  0.50404507  0.35638175]\n",
      " [ 1.05300481 -0.57982483  0.55982872  0.22803848]\n",
      " [ 0.24600992 -0.57982483  0.11355956  0.09969522]\n",
      " [ 0.24600992 -1.04039491  1.00609787  0.22803848]\n",
      " [ 0.59186487  0.34131533  0.39247778  0.35638175]\n",
      " [ 0.24600992 -0.57982483  0.50404507 -0.02864805]\n",
      " [ 0.70714986 -0.57982483  0.44826143  0.35638175]\n",
      " [ 0.24600992 -0.34953979  0.50404507  0.22803848]\n",
      " [-1.13740989  0.11103029 -1.28103155 -1.44042398]\n",
      " [ 0.13072494 -0.34953979  0.39247778  0.35638175]\n",
      " [-0.44569998 -1.04039491  0.33669414 -0.02864805]\n",
      " [-1.25269487 -0.11925475 -1.33681519 -1.18373745]\n",
      " [-0.56098497  1.95331061 -1.39259884 -1.05539418]\n",
      " [-0.330415   -0.57982483  0.61561236  0.99809808]\n",
      " [-0.330415   -0.11925475  0.39247778  0.35638175]\n",
      " [-1.25269487  0.80188541 -1.05789697 -1.31208072]\n",
      " [-1.71383481 -0.34953979 -1.33681519 -1.31208072]\n",
      " [ 0.36129491 -0.57982483  0.55982872  0.74141155]\n",
      " [-1.48326484  1.26245549 -1.55994977 -1.31208072]\n",
      " [-0.90683992  1.72302557 -1.05789697 -1.05539418]\n",
      " [ 0.36129491 -0.34953979  0.28091049  0.09969522]\n",
      " [-1.0221249  -1.73125004 -0.27692595 -0.28533458]\n",
      " [-1.0221249   0.80188541 -1.2252479  -1.05539418]\n",
      " [ 0.59186487  0.11103029  0.95031423  0.74141155]\n",
      " [-0.56098497 -0.11925475  0.39247778  0.35638175]\n",
      " [-0.79155494  1.03217045 -1.28103155 -1.31208072]\n",
      " [ 0.24600992 -0.11925475  0.61561236  0.74141155]\n",
      " [ 0.59186487 -0.57982483  1.00609787  1.25478461]\n",
      " [-0.79155494 -0.81010987  0.05777592  0.22803848]\n",
      " [-0.21513002  1.72302557 -1.16946426 -1.18373745]\n",
      " [ 0.13072494 -0.81010987  0.72717965  0.48472502]]\n"
     ]
    }
   ],
   "source": [
    "print(X_test)"
   ]
  },
  {
   "cell_type": "markdown",
   "metadata": {},
   "source": [
    "## Training the Decision Tree Classification model on the Training set"
   ]
  },
  {
   "cell_type": "code",
   "execution_count": 48,
   "metadata": {},
   "outputs": [
    {
     "data": {
      "text/plain": [
       "DecisionTreeClassifier(ccp_alpha=0.0, class_weight=None, criterion='entropy',\n",
       "                       max_depth=None, max_features=None, max_leaf_nodes=None,\n",
       "                       min_impurity_decrease=0.0, min_impurity_split=None,\n",
       "                       min_samples_leaf=1, min_samples_split=2,\n",
       "                       min_weight_fraction_leaf=0.0, presort='deprecated',\n",
       "                       random_state=0, splitter='best')"
      ]
     },
     "execution_count": 48,
     "metadata": {},
     "output_type": "execute_result"
    }
   ],
   "source": [
    "from sklearn.tree import DecisionTreeClassifier\n",
    "classifier = DecisionTreeClassifier(criterion = 'entropy', random_state = 0)\n",
    "classifier.fit(X_train, y_train)"
   ]
  },
  {
   "cell_type": "markdown",
   "metadata": {},
   "source": [
    "# Predicting a new result (feeding new data and predicting its class)"
   ]
  },
  {
   "cell_type": "code",
   "execution_count": 35,
   "metadata": {},
   "outputs": [
    {
     "name": "stdout",
     "output_type": "stream",
     "text": [
      "['Iris-setosa']\n"
     ]
    }
   ],
   "source": [
    "print(classifier.predict(sc.transform([[6.0, 2.9, 1.3, 0.2]])))"
   ]
  },
  {
   "cell_type": "markdown",
   "metadata": {},
   "source": [
    "## Predicting the Test set results"
   ]
  },
  {
   "cell_type": "code",
   "execution_count": 49,
   "metadata": {},
   "outputs": [
    {
     "name": "stdout",
     "output_type": "stream",
     "text": [
      "[['Iris-virginica' 'Iris-virginica']\n",
      " ['Iris-versicolor' 'Iris-versicolor']\n",
      " ['Iris-setosa' 'Iris-setosa']\n",
      " ['Iris-virginica' 'Iris-virginica']\n",
      " ['Iris-setosa' 'Iris-setosa']\n",
      " ['Iris-virginica' 'Iris-virginica']\n",
      " ['Iris-setosa' 'Iris-setosa']\n",
      " ['Iris-versicolor' 'Iris-versicolor']\n",
      " ['Iris-versicolor' 'Iris-versicolor']\n",
      " ['Iris-versicolor' 'Iris-versicolor']\n",
      " ['Iris-virginica' 'Iris-virginica']\n",
      " ['Iris-versicolor' 'Iris-versicolor']\n",
      " ['Iris-versicolor' 'Iris-versicolor']\n",
      " ['Iris-versicolor' 'Iris-versicolor']\n",
      " ['Iris-versicolor' 'Iris-versicolor']\n",
      " ['Iris-setosa' 'Iris-setosa']\n",
      " ['Iris-versicolor' 'Iris-versicolor']\n",
      " ['Iris-versicolor' 'Iris-versicolor']\n",
      " ['Iris-setosa' 'Iris-setosa']\n",
      " ['Iris-setosa' 'Iris-setosa']\n",
      " ['Iris-virginica' 'Iris-virginica']\n",
      " ['Iris-versicolor' 'Iris-versicolor']\n",
      " ['Iris-setosa' 'Iris-setosa']\n",
      " ['Iris-setosa' 'Iris-setosa']\n",
      " ['Iris-virginica' 'Iris-virginica']\n",
      " ['Iris-setosa' 'Iris-setosa']\n",
      " ['Iris-setosa' 'Iris-setosa']\n",
      " ['Iris-versicolor' 'Iris-versicolor']\n",
      " ['Iris-versicolor' 'Iris-versicolor']\n",
      " ['Iris-setosa' 'Iris-setosa']\n",
      " ['Iris-virginica' 'Iris-virginica']\n",
      " ['Iris-versicolor' 'Iris-versicolor']\n",
      " ['Iris-setosa' 'Iris-setosa']\n",
      " ['Iris-virginica' 'Iris-virginica']\n",
      " ['Iris-virginica' 'Iris-virginica']\n",
      " ['Iris-versicolor' 'Iris-versicolor']\n",
      " ['Iris-setosa' 'Iris-setosa']\n",
      " ['Iris-virginica' 'Iris-versicolor']]\n"
     ]
    }
   ],
   "source": [
    "y_pred = classifier.predict(X_test)\n",
    "print(np.concatenate((y_pred.reshape(len(y_pred),1), y_test.reshape(len(y_test),1)),1))"
   ]
  },
  {
   "cell_type": "markdown",
   "metadata": {},
   "source": [
    "## Making the Confusion Matrix"
   ]
  },
  {
   "cell_type": "code",
   "execution_count": 37,
   "metadata": {},
   "outputs": [
    {
     "name": "stdout",
     "output_type": "stream",
     "text": [
      "[[13  0  0]\n",
      " [ 0 15  1]\n",
      " [ 0  0  9]]\n"
     ]
    },
    {
     "data": {
      "text/plain": [
       "0.9736842105263158"
      ]
     },
     "execution_count": 37,
     "metadata": {},
     "output_type": "execute_result"
    }
   ],
   "source": [
    "from sklearn.metrics import confusion_matrix, accuracy_score\n",
    "cm = confusion_matrix(y_test, y_pred)\n",
    "print(cm)\n",
    "accuracy_score(y_test, y_pred)"
   ]
  },
  {
   "cell_type": "markdown",
   "metadata": {},
   "source": [
    "## Model's accuracy, hence, is 97.368%\n",
    "<br>"
   ]
  },
  {
   "cell_type": "markdown",
   "metadata": {},
   "source": [
    "## Graphical visualization of Decision Tree"
   ]
  },
  {
   "cell_type": "code",
   "execution_count": 50,
   "metadata": {},
   "outputs": [
    {
     "data": {
      "image/png": "[encoded data removed]",
      "text/plain": [
       "<Figure size 936x648 with 1 Axes>"
      ]
     },
     "metadata": {
      "needs_background": "light"
     },
     "output_type": "display_data"
    }
   ],
   "source": [
    "fig = plt.figure(figsize=(13,9))\n",
    "tree.plot_tree(classifier);"
   ]
  },
  {
   "cell_type": "code",
   "execution_count": null,
   "metadata": {},
   "outputs": [],
   "source": []
  }
 ],
 "metadata": {
  "kernelspec": {
   "display_name": "Python 3",
   "language": "python",
   "name": "python3"
  },
  "language_info": {
   "codemirror_mode": {
    "name": "ipython",
    "version": 3
   },
   "file_extension": ".py",
   "mimetype": "text/x-python",
   "name": "python",
   "nbconvert_exporter": "python",
   "pygments_lexer": "ipython3",
   "version": "3.7.6"
  }
 },
 "nbformat": 4,
 "nbformat_minor": 4
}
